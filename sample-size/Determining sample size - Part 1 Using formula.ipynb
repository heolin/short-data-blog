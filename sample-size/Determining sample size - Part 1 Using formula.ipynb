{
 "cells": [
  {
   "cell_type": "markdown",
   "id": "1369c3cd",
   "metadata": {},
   "source": [
    "# [Short Data Blog] Determining sample size - Part 1: Using formula\n",
    "\n",
    "Sample selection is important for statistical tests because it impacts the validity and reliability of the statistical inference. A representative and unbiased sample increases the precision and ensures generalizability of the statistical inference. A sample that does not meet the statistical assumptions can lead to incorrect or invalid results.\n",
    "\n",
    "One of the many reasons why choosing the right sample size involves:\n",
    "- **Avoiding bias**: A biased sample may lead to inaccurate results because the sample does not represent the population accurately.\n",
    "\n",
    "- **Increasing precision**: A larger sample size can increase the precision of the statistical estimate, as it reduces the variability in the sample and improves the accuracy of the estimates of population parameters.\n",
    "\n",
    "- **Ensuring generalizability**: The sample should be representative of the population of interest so that the statistical inference can be generalized to the population. \n",
    "\n",
    "## Sample size formula\n",
    "\n",
    "The most basic way of determining sample size is using one of a few existing formulas. Here, we will focus on the simplest one, that involves using `z-score` statistics. However, it is important to note that this method only works for populations that follow a normal distribution or when the sample size is sufficiently large for the central limit theorem to hold.\n",
    "\n",
    "Here, we will consider two different cases of hypothesis tests:\n",
    "- **One-sample tests**: which are used when there is only one group being studied, and we want to make inferences about the population mean, variance, or proportion. For example, we might want to know if the average height of students in a school is significantly different from a national average.\n",
    "- **Two-sample tests**: which are used when we aim to compare two independent groups. In a two-sample test, we test whether there is a significant difference between the means or variances of the two groups. For example, we might want to know if the average exam scores of male and female students are significantly different."
   ]
  },
  {
   "cell_type": "markdown",
   "id": "c945f2ef",
   "metadata": {},
   "source": [
    "### One-sample tests\n",
    "We will start with using a formula for one-sample tests. To determine the sample size using this formula, you first need to determine the desired margin of error, the level of confidence, and the population standard deviation or an estimate of it. Once you have these values, you can use the following formula to calculate the required sample size:\n",
    "\n",
    "$$\n",
    "n = \\big[\\frac{Z_{\\alpha} \\sigma}{E}\\big]^2\n",
    "$$\n",
    "\n",
    "where:\n",
    "\n",
    "- $n$ is the required sample size,\n",
    "- $\\alpha$ is the confidence level\n",
    "- $Z$ is the `z-score` for the desired level of confidence,\n",
    "- $\\sigma$ is the population standard deviation or an estimate of it,\n",
    "- $E$ is the desired margin of error, expressed as a decimal fraction.\n",
    "\n",
    "\n",
    "#### Example\n",
    "Let's consider an example where we are trying to determine a required sample size for an experiment, in which we want to know if the average height of male students in a school is significantly different from a national average. \n",
    "\n",
    "We know that the national average is $H=175cm$ with a standard deviation $\\sigma=14cm$ And we would like to achieve a confidence level at $95\\%$ and a margin of error equal to $E=0.05$. Our task is now to learn how many students we need to check in our local high school to get a valid sample size for the comparison. \n",
    "\n",
    "Since in this test our value can be larger or smaller than the national average, we are considering a two-tailed test. That will be important for computing the `z-score` for the formula. If you would like to learn more about one-tailed and two-tailed hypothesis testing, you can start by reading: https://statisticsbyjim.com/hypothesis-testing/one-tailed-two-tailed-hypothesis-tests/.\n",
    "\n",
    "Here's an example of how to calculate the required sample size using Python code:"
   ]
  },
  {
   "cell_type": "code",
   "execution_count": 46,
   "id": "c7919bd4",
   "metadata": {},
   "outputs": [
    {
     "name": "stdout",
     "output_type": "stream",
     "text": [
      "z-score: 1.959963984540054\n",
      "n: 18823.148221401214\n"
     ]
    }
   ],
   "source": [
    "import numpy as np\n",
    "from scipy import stats as st\n",
    "\n",
    "sigma = 14\n",
    "E = 0.2\n",
    "confidence = 0.95\n",
    "\n",
    "# since are working with two-tailed test, we need to compute a corrected confidence level:\n",
    "corrected_confidence = (1 + 0.95) / 2\n",
    "\n",
    "z = st.norm.ppf(corrected_confidence)\n",
    "print(f\"z-score: {z}\")\n",
    "# z-score: 1.959963984540054\n",
    "\n",
    "# and now we can compute the sample size\n",
    "n = (z * sigma / E)**2\n",
    "print(f\"n: {n}\")"
   ]
  },
  {
   "cell_type": "markdown",
   "id": "3fd0c5a2",
   "metadata": {},
   "source": [
    "Therefore, we need at least, $18824$ students to meet our requirements. Quite surprising, isn't it?\n",
    "\n",
    "### Two-sample tests\n",
    "Now, we will focus on two-sample tests, this means we will compare the means of two different, independent groups. This formula extends the previous one by introducing two `z-score` values -- one for each sample, and by replacing the margin of error $E$ with a hypothesized difference between samples $\\Delta$. Once you have these values, you can use the following formula to calculate the required sample size:\n",
    "\n",
    "$$\n",
    "n = \\big[\\frac{2(Z_{\\alpha}+Z_{\\beta}) \\sigma}{\\Delta}\\big]^2\n",
    "$$\n",
    "\n",
    "where:\n",
    "\n",
    "- $n$ is the required sample size,\n",
    "- $\\alpha$ is the confidence level for the first sample\n",
    "- $\\beta$ is the confidence level for the second sample\n",
    "- $Z$ is the `z-score` for the desired level of confidence,\n",
    "- $\\sigma$ is the population standard deviation or an estimate of it,\n",
    "- $\\Delta$ is the hypothesized difference between samples.\n",
    "\n",
    "### Example\n",
    "\n",
    "Let's consider an example where we are trying to determine a required sample size for an experiment, in which we might want to know if the average exam scores of male and female students are significantly different.\n",
    "\n",
    "We know that the standard deviation for the whole population is estimated to be $\\sigma=14cm$. And we would like to achieve a confidence level at $95\\%$ for both groups, which the hypothesized difference around $\\Delta=10 cm$. Also, again, this test can be categorized as a two-tailed one. Our task is now to learn how many students we need to check in our local high school to get a valid sample size for the comparison. \n",
    "\n",
    "Here's an example of how to calculate the required sample size using python code:"
   ]
  },
  {
   "cell_type": "code",
   "execution_count": 47,
   "id": "13738b4d",
   "metadata": {},
   "outputs": [
    {
     "name": "stdout",
     "output_type": "stream",
     "text": [
      "n: 120.46814861696777\n"
     ]
    }
   ],
   "source": [
    "import numpy as np\n",
    "from scipy import stats as st\n",
    "\n",
    "sigma = 14\n",
    "D = 10\n",
    "c_alpha = 0.95\n",
    "c_beta = 0.95\n",
    "\n",
    "z_alpha = st.norm.ppf((1 + c_alpha) / 2)\n",
    "z_beta = st.norm.ppf((1 + c_alpha) / 2)\n",
    "\n",
    "# and now we can compute the sample size\n",
    "n = (2 * (z_alpha + z_beta) * sigma / D)**2\n",
    "print(f\"n: {n}\")"
   ]
  },
  {
   "cell_type": "markdown",
   "id": "6e15b529",
   "metadata": {},
   "source": [
    "Therefore, we need only $121$ students to perform the experiment.\n",
    "\n",
    "\n",
    "## Summary \n",
    "\n",
    "In this blog post, we have discussed how to select the right sample size using formulas for both one-sample and two-sample tests. We have also went through a sample Python code example to illustrate the process of selecting the sample size based on the desired level of precision and confidence. By following these steps, researchers can ensure that they collect a sufficient amount of data to achieve accurate and reliable results.\n",
    "\n",
    "Keep in mind that this formula assumes a normal distribution of the population and a simple random sampling method. If the population is not normally distributed or the sampling method is more complex, other methods may need to be used to determine the appropriate sample size.\n",
    "\n",
    "In the next part, we will focus on the more advanced method that can be used for determining sample size for any type of distribution: **bootstrapping**.\n"
   ]
  }
 ],
 "metadata": {
  "kernelspec": {
   "display_name": "Python 3 (ipykernel)",
   "language": "python",
   "name": "python3"
  },
  "language_info": {
   "codemirror_mode": {
    "name": "ipython",
    "version": 3
   },
   "file_extension": ".py",
   "mimetype": "text/x-python",
   "name": "python",
   "nbconvert_exporter": "python",
   "pygments_lexer": "ipython3",
   "version": "3.10.4"
  }
 },
 "nbformat": 4,
 "nbformat_minor": 5
}
